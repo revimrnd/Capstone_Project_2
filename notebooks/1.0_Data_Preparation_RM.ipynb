{
 "cells": [
  {
   "attachments": {},
   "cell_type": "markdown",
   "metadata": {},
   "source": [
    "# `Background`\n",
    "Kinerja supply cahin suatu perusahaan menjadi suatu hal penting yang berkontribusi dalam transformasi proses bisnis. Kondisi perkembangan bisnis yang volatile membuat pelaku bisnis terus mengevaluasi kegiatan usahanya. Perusahaan yang bergerak di bidang online retail shipping ingin melakukan perbaikan kinerja supply chain dalam proses transformasi bisnisnya. Perusahaan ingin meningkatkan efisiensi dan efektivitas dari Mode of Shipment untuk mengurangi biaya dan optimasi bisnis dalam kinerja supply chain."
   ]
  },
  {
   "attachments": {},
   "cell_type": "markdown",
   "metadata": {},
   "source": [
    "## `Problem Statement`\n",
    "Perusahaan ingin mengoptimalkan **efisiensi dan efektivitas dari Mode of Shipment**. Informasi ini akan membantu perusahaan untuk mengurangi biaya dalam proses supply chain, meningkatkan kinerja, dan membantu dalam transformasi proses bisnis.\n",
    "\n",
    "Sebagai seorang *data analyst*, kita akan mencoba menjawab pertanyaan berikut:\n",
    "\n",
    "Pertanyaan utama\n",
    "- **Bagaimana karakteristik dari masing-masing mode of shipment untuk efisiensi dan efektivitas kinerja?**\n",
    "\n",
    "Pertanyaan turunan\n",
    "- Apakah terdapat perbedaan Revenue antara mode of shipment yang berbeda?\n",
    "- Bagaimana hubungan antara customer care calls dengan revenue berdasarkan Mode of Shipment?\n",
    "- Bagaimana karakteristik mode of shipment berdasarkan customer rating?\n",
    "- Bagaimana karaketristik mode of shipment ditinjau dari prior purchases dan Revenue?\n",
    "- Bagaimana karakteristik mode pengiriman dilihat dari warehouse block dan kategori berat barang?\n",
    "- Bagaimana karakteristik mode of shipment terhadap reach on time?\n",
    "\n",
    "Metrics yang digunakan:\n",
    "- Revenue\n"
   ]
  },
  {
   "attachments": {},
   "cell_type": "markdown",
   "metadata": {},
   "source": [
    "## `Data`\n",
    "Kita akan menganalisa data yang sudah dikumpulkan oleh perusahaan, untuk menjawab permasalahaan perusahaan."
   ]
  },
  {
   "attachments": {},
   "cell_type": "markdown",
   "metadata": {},
   "source": [
    "Dataset ini terdiri dari beberapa informasi terkait komponen bisnis pengirimaan barang. Ada 12 kolom di dalam dataset Online Retail Shipping :  \n",
    "\n",
    "* ID: ID number of customers\n",
    "* Warehouse block: The company has a big warehouse that is divided into blocks (A-E)\n",
    "* Mode of shipment: The company ships the products in multiple ways (Ship, Flight, and Road)\n",
    "* Customer care calls: The number of calls made from inquiries for inquiries of the shipment\n",
    "* Customer rating: Rate from each customer. 1 is the lowest, and 5 is the highest\n",
    "* Cost of the product: Cost of the product in US Dollars\n",
    "* Prior purchases: The number of previous purchases\n",
    "* Product importance: The company has categorized the product in various parameters (low, medium, high)\n",
    "* Gender: Male and female\n",
    "* Discount offered: Discount offered on that specific product\n",
    "* Weight in gms: The weight in grams\n",
    "* Reached on time: 1 indicates that the product has not arrived on time, and 0 indicates the product has arrived on time"
   ]
  },
  {
   "attachments": {},
   "cell_type": "markdown",
   "metadata": {},
   "source": [
    "## `Setup Init`"
   ]
  },
  {
   "cell_type": "code",
   "execution_count": 2,
   "metadata": {},
   "outputs": [],
   "source": [
    "import pandas as pd\n",
    "import numpy as np\n",
    "import matplotlib.pyplot as plt\n",
    "import seaborn as sns\n",
    "import plotly.express as px\n",
    "from sklearn.preprocessing import KBinsDiscretizer\n",
    "from scipy.stats import normaltest\n",
    "\n",
    "import warnings\n",
    "warnings.filterwarnings(\"ignore\")"
   ]
  },
  {
   "cell_type": "code",
   "execution_count": 3,
   "metadata": {},
   "outputs": [
    {
     "data": {
      "text/html": [
       "<div>\n",
       "<style scoped>\n",
       "    .dataframe tbody tr th:only-of-type {\n",
       "        vertical-align: middle;\n",
       "    }\n",
       "\n",
       "    .dataframe tbody tr th {\n",
       "        vertical-align: top;\n",
       "    }\n",
       "\n",
       "    .dataframe thead th {\n",
       "        text-align: right;\n",
       "    }\n",
       "</style>\n",
       "<table border=\"1\" class=\"dataframe\">\n",
       "  <thead>\n",
       "    <tr style=\"text-align: right;\">\n",
       "      <th></th>\n",
       "      <th>ID</th>\n",
       "      <th>Warehouse_block</th>\n",
       "      <th>Mode_of_Shipment</th>\n",
       "      <th>Customer_care_calls</th>\n",
       "      <th>Customer_rating</th>\n",
       "      <th>Cost_of_the_Product</th>\n",
       "      <th>Prior_purchases</th>\n",
       "      <th>Product_importance</th>\n",
       "      <th>Gender</th>\n",
       "      <th>Discount_offered</th>\n",
       "      <th>Weight_in_gms</th>\n",
       "      <th>Reached.on.Time_Y.N</th>\n",
       "    </tr>\n",
       "  </thead>\n",
       "  <tbody>\n",
       "    <tr>\n",
       "      <th>0</th>\n",
       "      <td>1</td>\n",
       "      <td>D</td>\n",
       "      <td>Flight</td>\n",
       "      <td>4</td>\n",
       "      <td>2</td>\n",
       "      <td>177</td>\n",
       "      <td>3</td>\n",
       "      <td>low</td>\n",
       "      <td>F</td>\n",
       "      <td>44</td>\n",
       "      <td>1233</td>\n",
       "      <td>1</td>\n",
       "    </tr>\n",
       "    <tr>\n",
       "      <th>1</th>\n",
       "      <td>2</td>\n",
       "      <td>F</td>\n",
       "      <td>Flight</td>\n",
       "      <td>4</td>\n",
       "      <td>5</td>\n",
       "      <td>216</td>\n",
       "      <td>2</td>\n",
       "      <td>low</td>\n",
       "      <td>M</td>\n",
       "      <td>59</td>\n",
       "      <td>3088</td>\n",
       "      <td>1</td>\n",
       "    </tr>\n",
       "    <tr>\n",
       "      <th>2</th>\n",
       "      <td>3</td>\n",
       "      <td>A</td>\n",
       "      <td>Flight</td>\n",
       "      <td>2</td>\n",
       "      <td>2</td>\n",
       "      <td>183</td>\n",
       "      <td>4</td>\n",
       "      <td>low</td>\n",
       "      <td>M</td>\n",
       "      <td>48</td>\n",
       "      <td>3374</td>\n",
       "      <td>1</td>\n",
       "    </tr>\n",
       "    <tr>\n",
       "      <th>3</th>\n",
       "      <td>4</td>\n",
       "      <td>B</td>\n",
       "      <td>Flight</td>\n",
       "      <td>3</td>\n",
       "      <td>3</td>\n",
       "      <td>176</td>\n",
       "      <td>4</td>\n",
       "      <td>medium</td>\n",
       "      <td>M</td>\n",
       "      <td>10</td>\n",
       "      <td>1177</td>\n",
       "      <td>1</td>\n",
       "    </tr>\n",
       "    <tr>\n",
       "      <th>4</th>\n",
       "      <td>5</td>\n",
       "      <td>C</td>\n",
       "      <td>Flight</td>\n",
       "      <td>2</td>\n",
       "      <td>2</td>\n",
       "      <td>184</td>\n",
       "      <td>3</td>\n",
       "      <td>medium</td>\n",
       "      <td>F</td>\n",
       "      <td>46</td>\n",
       "      <td>2484</td>\n",
       "      <td>1</td>\n",
       "    </tr>\n",
       "  </tbody>\n",
       "</table>\n",
       "</div>"
      ],
      "text/plain": [
       "   ID Warehouse_block Mode_of_Shipment  Customer_care_calls  Customer_rating   \n",
       "0   1               D           Flight                    4                2  \\\n",
       "1   2               F           Flight                    4                5   \n",
       "2   3               A           Flight                    2                2   \n",
       "3   4               B           Flight                    3                3   \n",
       "4   5               C           Flight                    2                2   \n",
       "\n",
       "   Cost_of_the_Product  Prior_purchases Product_importance Gender   \n",
       "0                  177                3                low      F  \\\n",
       "1                  216                2                low      M   \n",
       "2                  183                4                low      M   \n",
       "3                  176                4             medium      M   \n",
       "4                  184                3             medium      F   \n",
       "\n",
       "   Discount_offered  Weight_in_gms  Reached.on.Time_Y.N  \n",
       "0                44           1233                    1  \n",
       "1                59           3088                    1  \n",
       "2                48           3374                    1  \n",
       "3                10           1177                    1  \n",
       "4                46           2484                    1  "
      ]
     },
     "metadata": {},
     "output_type": "display_data"
    },
    {
     "data": {
      "text/html": [
       "<div>\n",
       "<style scoped>\n",
       "    .dataframe tbody tr th:only-of-type {\n",
       "        vertical-align: middle;\n",
       "    }\n",
       "\n",
       "    .dataframe tbody tr th {\n",
       "        vertical-align: top;\n",
       "    }\n",
       "\n",
       "    .dataframe thead th {\n",
       "        text-align: right;\n",
       "    }\n",
       "</style>\n",
       "<table border=\"1\" class=\"dataframe\">\n",
       "  <thead>\n",
       "    <tr style=\"text-align: right;\">\n",
       "      <th></th>\n",
       "      <th>ID</th>\n",
       "      <th>Warehouse_block</th>\n",
       "      <th>Mode_of_Shipment</th>\n",
       "      <th>Customer_care_calls</th>\n",
       "      <th>Customer_rating</th>\n",
       "      <th>Cost_of_the_Product</th>\n",
       "      <th>Prior_purchases</th>\n",
       "      <th>Product_importance</th>\n",
       "      <th>Gender</th>\n",
       "      <th>Discount_offered</th>\n",
       "      <th>Weight_in_gms</th>\n",
       "      <th>Reached.on.Time_Y.N</th>\n",
       "    </tr>\n",
       "  </thead>\n",
       "  <tbody>\n",
       "    <tr>\n",
       "      <th>10994</th>\n",
       "      <td>10995</td>\n",
       "      <td>A</td>\n",
       "      <td>Ship</td>\n",
       "      <td>4</td>\n",
       "      <td>1</td>\n",
       "      <td>252</td>\n",
       "      <td>5</td>\n",
       "      <td>medium</td>\n",
       "      <td>F</td>\n",
       "      <td>1</td>\n",
       "      <td>1538</td>\n",
       "      <td>1</td>\n",
       "    </tr>\n",
       "    <tr>\n",
       "      <th>10995</th>\n",
       "      <td>10996</td>\n",
       "      <td>B</td>\n",
       "      <td>Ship</td>\n",
       "      <td>4</td>\n",
       "      <td>1</td>\n",
       "      <td>232</td>\n",
       "      <td>5</td>\n",
       "      <td>medium</td>\n",
       "      <td>F</td>\n",
       "      <td>6</td>\n",
       "      <td>1247</td>\n",
       "      <td>0</td>\n",
       "    </tr>\n",
       "    <tr>\n",
       "      <th>10996</th>\n",
       "      <td>10997</td>\n",
       "      <td>C</td>\n",
       "      <td>Ship</td>\n",
       "      <td>5</td>\n",
       "      <td>4</td>\n",
       "      <td>242</td>\n",
       "      <td>5</td>\n",
       "      <td>low</td>\n",
       "      <td>F</td>\n",
       "      <td>4</td>\n",
       "      <td>1155</td>\n",
       "      <td>0</td>\n",
       "    </tr>\n",
       "    <tr>\n",
       "      <th>10997</th>\n",
       "      <td>10998</td>\n",
       "      <td>F</td>\n",
       "      <td>Ship</td>\n",
       "      <td>5</td>\n",
       "      <td>2</td>\n",
       "      <td>223</td>\n",
       "      <td>6</td>\n",
       "      <td>medium</td>\n",
       "      <td>M</td>\n",
       "      <td>2</td>\n",
       "      <td>1210</td>\n",
       "      <td>0</td>\n",
       "    </tr>\n",
       "    <tr>\n",
       "      <th>10998</th>\n",
       "      <td>10999</td>\n",
       "      <td>D</td>\n",
       "      <td>Ship</td>\n",
       "      <td>2</td>\n",
       "      <td>5</td>\n",
       "      <td>155</td>\n",
       "      <td>5</td>\n",
       "      <td>low</td>\n",
       "      <td>F</td>\n",
       "      <td>6</td>\n",
       "      <td>1639</td>\n",
       "      <td>0</td>\n",
       "    </tr>\n",
       "  </tbody>\n",
       "</table>\n",
       "</div>"
      ],
      "text/plain": [
       "          ID Warehouse_block Mode_of_Shipment  Customer_care_calls   \n",
       "10994  10995               A             Ship                    4  \\\n",
       "10995  10996               B             Ship                    4   \n",
       "10996  10997               C             Ship                    5   \n",
       "10997  10998               F             Ship                    5   \n",
       "10998  10999               D             Ship                    2   \n",
       "\n",
       "       Customer_rating  Cost_of_the_Product  Prior_purchases   \n",
       "10994                1                  252                5  \\\n",
       "10995                1                  232                5   \n",
       "10996                4                  242                5   \n",
       "10997                2                  223                6   \n",
       "10998                5                  155                5   \n",
       "\n",
       "      Product_importance Gender  Discount_offered  Weight_in_gms   \n",
       "10994             medium      F                 1           1538  \\\n",
       "10995             medium      F                 6           1247   \n",
       "10996                low      F                 4           1155   \n",
       "10997             medium      M                 2           1210   \n",
       "10998                low      F                 6           1639   \n",
       "\n",
       "       Reached.on.Time_Y.N  \n",
       "10994                    1  \n",
       "10995                    0  \n",
       "10996                    0  \n",
       "10997                    0  \n",
       "10998                    0  "
      ]
     },
     "metadata": {},
     "output_type": "display_data"
    }
   ],
   "source": [
    "# Load data\n",
    "\n",
    "df = pd.read_csv(r'D:\\JCDS_2023\\Capstone 2\\data\\raw\\Online Retail Shipping.csv')\n",
    "display(df.head(),df.tail())"
   ]
  },
  {
   "attachments": {},
   "cell_type": "markdown",
   "metadata": {},
   "source": [
    "## `Data Understanding and Cleaning`\n",
    "Tahapan *data understanding* memudahkan kita dalam mengenali dataset secara mendalam, sebelum masuk ke tahap analisis. Proses ini memberi informasi mengenai anomali-anomali apa saja yang terdapat di dalam dataset dan membutuhkan penanganan dalam tahapan *data cleaning*. Setiap penangan anomali yang dilakukan, akan disertai dengan justifikasi langkah yang diambil, baik secara *domain knowledge* maupun secara statistik."
   ]
  },
  {
   "cell_type": "code",
   "execution_count": 4,
   "metadata": {},
   "outputs": [
    {
     "name": "stdout",
     "output_type": "stream",
     "text": [
      "Jumlah baris dan kolom di dataset df adalah (10999, 12)\n",
      "<class 'pandas.core.frame.DataFrame'>\n",
      "RangeIndex: 10999 entries, 0 to 10998\n",
      "Data columns (total 12 columns):\n",
      " #   Column               Non-Null Count  Dtype \n",
      "---  ------               --------------  ----- \n",
      " 0   ID                   10999 non-null  int64 \n",
      " 1   Warehouse_block      10999 non-null  object\n",
      " 2   Mode_of_Shipment     10999 non-null  object\n",
      " 3   Customer_care_calls  10999 non-null  int64 \n",
      " 4   Customer_rating      10999 non-null  int64 \n",
      " 5   Cost_of_the_Product  10999 non-null  int64 \n",
      " 6   Prior_purchases      10999 non-null  int64 \n",
      " 7   Product_importance   10999 non-null  object\n",
      " 8   Gender               10999 non-null  object\n",
      " 9   Discount_offered     10999 non-null  int64 \n",
      " 10  Weight_in_gms        10999 non-null  int64 \n",
      " 11  Reached.on.Time_Y.N  10999 non-null  int64 \n",
      "dtypes: int64(8), object(4)\n",
      "memory usage: 1.0+ MB\n"
     ]
    }
   ],
   "source": [
    "# Showing information about row and column of dataset\n",
    "\n",
    "print(f'Jumlah baris dan kolom di dataset df adalah {df.shape}')\n",
    "df.info()"
   ]
  },
  {
   "attachments": {},
   "cell_type": "markdown",
   "metadata": {},
   "source": [
    "Insight\n",
    "- Dataset ini memiliki data dengan jumlah baris sebanyak 10999 dan terdiri dari 12 kolom\n",
    "- Berdasarkan informasi di atas, kita juga dapat mengetahui tipe data dari masing-masing kolom"
   ]
  },
  {
   "cell_type": "code",
   "execution_count": 5,
   "metadata": {},
   "outputs": [
    {
     "data": {
      "text/html": [
       "<div>\n",
       "<style scoped>\n",
       "    .dataframe tbody tr th:only-of-type {\n",
       "        vertical-align: middle;\n",
       "    }\n",
       "\n",
       "    .dataframe tbody tr th {\n",
       "        vertical-align: top;\n",
       "    }\n",
       "\n",
       "    .dataframe thead th {\n",
       "        text-align: right;\n",
       "    }\n",
       "</style>\n",
       "<table border=\"1\" class=\"dataframe\">\n",
       "  <thead>\n",
       "    <tr style=\"text-align: right;\">\n",
       "      <th></th>\n",
       "      <th>ID</th>\n",
       "      <th>Customer_care_calls</th>\n",
       "      <th>Customer_rating</th>\n",
       "      <th>Cost_of_the_Product</th>\n",
       "      <th>Prior_purchases</th>\n",
       "      <th>Discount_offered</th>\n",
       "      <th>Weight_in_gms</th>\n",
       "      <th>Reached.on.Time_Y.N</th>\n",
       "    </tr>\n",
       "  </thead>\n",
       "  <tbody>\n",
       "    <tr>\n",
       "      <th>count</th>\n",
       "      <td>10999.00000</td>\n",
       "      <td>10999.000000</td>\n",
       "      <td>10999.000000</td>\n",
       "      <td>10999.000000</td>\n",
       "      <td>10999.000000</td>\n",
       "      <td>10999.000000</td>\n",
       "      <td>10999.000000</td>\n",
       "      <td>10999.000000</td>\n",
       "    </tr>\n",
       "    <tr>\n",
       "      <th>mean</th>\n",
       "      <td>5500.00000</td>\n",
       "      <td>4.054459</td>\n",
       "      <td>2.990545</td>\n",
       "      <td>210.196836</td>\n",
       "      <td>3.567597</td>\n",
       "      <td>13.373216</td>\n",
       "      <td>3634.016729</td>\n",
       "      <td>0.596691</td>\n",
       "    </tr>\n",
       "    <tr>\n",
       "      <th>std</th>\n",
       "      <td>3175.28214</td>\n",
       "      <td>1.141490</td>\n",
       "      <td>1.413603</td>\n",
       "      <td>48.063272</td>\n",
       "      <td>1.522860</td>\n",
       "      <td>16.205527</td>\n",
       "      <td>1635.377251</td>\n",
       "      <td>0.490584</td>\n",
       "    </tr>\n",
       "    <tr>\n",
       "      <th>min</th>\n",
       "      <td>1.00000</td>\n",
       "      <td>2.000000</td>\n",
       "      <td>1.000000</td>\n",
       "      <td>96.000000</td>\n",
       "      <td>2.000000</td>\n",
       "      <td>1.000000</td>\n",
       "      <td>1001.000000</td>\n",
       "      <td>0.000000</td>\n",
       "    </tr>\n",
       "    <tr>\n",
       "      <th>25%</th>\n",
       "      <td>2750.50000</td>\n",
       "      <td>3.000000</td>\n",
       "      <td>2.000000</td>\n",
       "      <td>169.000000</td>\n",
       "      <td>3.000000</td>\n",
       "      <td>4.000000</td>\n",
       "      <td>1839.500000</td>\n",
       "      <td>0.000000</td>\n",
       "    </tr>\n",
       "    <tr>\n",
       "      <th>50%</th>\n",
       "      <td>5500.00000</td>\n",
       "      <td>4.000000</td>\n",
       "      <td>3.000000</td>\n",
       "      <td>214.000000</td>\n",
       "      <td>3.000000</td>\n",
       "      <td>7.000000</td>\n",
       "      <td>4149.000000</td>\n",
       "      <td>1.000000</td>\n",
       "    </tr>\n",
       "    <tr>\n",
       "      <th>75%</th>\n",
       "      <td>8249.50000</td>\n",
       "      <td>5.000000</td>\n",
       "      <td>4.000000</td>\n",
       "      <td>251.000000</td>\n",
       "      <td>4.000000</td>\n",
       "      <td>10.000000</td>\n",
       "      <td>5050.000000</td>\n",
       "      <td>1.000000</td>\n",
       "    </tr>\n",
       "    <tr>\n",
       "      <th>max</th>\n",
       "      <td>10999.00000</td>\n",
       "      <td>7.000000</td>\n",
       "      <td>5.000000</td>\n",
       "      <td>310.000000</td>\n",
       "      <td>10.000000</td>\n",
       "      <td>65.000000</td>\n",
       "      <td>7846.000000</td>\n",
       "      <td>1.000000</td>\n",
       "    </tr>\n",
       "  </tbody>\n",
       "</table>\n",
       "</div>"
      ],
      "text/plain": [
       "                ID  Customer_care_calls  Customer_rating  Cost_of_the_Product   \n",
       "count  10999.00000         10999.000000     10999.000000         10999.000000  \\\n",
       "mean    5500.00000             4.054459         2.990545           210.196836   \n",
       "std     3175.28214             1.141490         1.413603            48.063272   \n",
       "min        1.00000             2.000000         1.000000            96.000000   \n",
       "25%     2750.50000             3.000000         2.000000           169.000000   \n",
       "50%     5500.00000             4.000000         3.000000           214.000000   \n",
       "75%     8249.50000             5.000000         4.000000           251.000000   \n",
       "max    10999.00000             7.000000         5.000000           310.000000   \n",
       "\n",
       "       Prior_purchases  Discount_offered  Weight_in_gms  Reached.on.Time_Y.N  \n",
       "count     10999.000000      10999.000000   10999.000000         10999.000000  \n",
       "mean          3.567597         13.373216    3634.016729             0.596691  \n",
       "std           1.522860         16.205527    1635.377251             0.490584  \n",
       "min           2.000000          1.000000    1001.000000             0.000000  \n",
       "25%           3.000000          4.000000    1839.500000             0.000000  \n",
       "50%           3.000000          7.000000    4149.000000             1.000000  \n",
       "75%           4.000000         10.000000    5050.000000             1.000000  \n",
       "max          10.000000         65.000000    7846.000000             1.000000  "
      ]
     },
     "metadata": {},
     "output_type": "display_data"
    },
    {
     "data": {
      "text/html": [
       "<div>\n",
       "<style scoped>\n",
       "    .dataframe tbody tr th:only-of-type {\n",
       "        vertical-align: middle;\n",
       "    }\n",
       "\n",
       "    .dataframe tbody tr th {\n",
       "        vertical-align: top;\n",
       "    }\n",
       "\n",
       "    .dataframe thead th {\n",
       "        text-align: right;\n",
       "    }\n",
       "</style>\n",
       "<table border=\"1\" class=\"dataframe\">\n",
       "  <thead>\n",
       "    <tr style=\"text-align: right;\">\n",
       "      <th></th>\n",
       "      <th>Warehouse_block</th>\n",
       "      <th>Mode_of_Shipment</th>\n",
       "      <th>Product_importance</th>\n",
       "      <th>Gender</th>\n",
       "    </tr>\n",
       "  </thead>\n",
       "  <tbody>\n",
       "    <tr>\n",
       "      <th>count</th>\n",
       "      <td>10999</td>\n",
       "      <td>10999</td>\n",
       "      <td>10999</td>\n",
       "      <td>10999</td>\n",
       "    </tr>\n",
       "    <tr>\n",
       "      <th>unique</th>\n",
       "      <td>5</td>\n",
       "      <td>3</td>\n",
       "      <td>3</td>\n",
       "      <td>2</td>\n",
       "    </tr>\n",
       "    <tr>\n",
       "      <th>top</th>\n",
       "      <td>F</td>\n",
       "      <td>Ship</td>\n",
       "      <td>low</td>\n",
       "      <td>F</td>\n",
       "    </tr>\n",
       "    <tr>\n",
       "      <th>freq</th>\n",
       "      <td>3666</td>\n",
       "      <td>7462</td>\n",
       "      <td>5297</td>\n",
       "      <td>5545</td>\n",
       "    </tr>\n",
       "  </tbody>\n",
       "</table>\n",
       "</div>"
      ],
      "text/plain": [
       "       Warehouse_block Mode_of_Shipment Product_importance Gender\n",
       "count            10999            10999              10999  10999\n",
       "unique               5                3                  3      2\n",
       "top                  F             Ship                low      F\n",
       "freq              3666             7462               5297   5545"
      ]
     },
     "metadata": {},
     "output_type": "display_data"
    }
   ],
   "source": [
    "# Showing Descriptive Statistic of the dataset\n",
    "\n",
    "display(df.describe(), df.describe(include='object'))"
   ]
  },
  {
   "attachments": {},
   "cell_type": "markdown",
   "metadata": {},
   "source": [
    "Insight\n",
    "- Untuk variabel-variabel numerik kita dapat melihat informasi statistika deskriptif yang terdiri dari jumlah, nilai rata-rata, standar deviasi, nilai minimal, nilai maksimal, dan quantile\n",
    "- Untuk variabel-variabel kategorikal kita mendapatkan informasi terkait jumlah data, nilai unik, dan nilai terbanyak"
   ]
  },
  {
   "cell_type": "code",
   "execution_count": 6,
   "metadata": {},
   "outputs": [
    {
     "data": {
      "text/html": [
       "<div>\n",
       "<style scoped>\n",
       "    .dataframe tbody tr th:only-of-type {\n",
       "        vertical-align: middle;\n",
       "    }\n",
       "\n",
       "    .dataframe tbody tr th {\n",
       "        vertical-align: top;\n",
       "    }\n",
       "\n",
       "    .dataframe thead th {\n",
       "        text-align: right;\n",
       "    }\n",
       "</style>\n",
       "<table border=\"1\" class=\"dataframe\">\n",
       "  <thead>\n",
       "    <tr style=\"text-align: right;\">\n",
       "      <th></th>\n",
       "      <th>feature</th>\n",
       "      <th>data_type</th>\n",
       "      <th>null_value</th>\n",
       "      <th>neg_value</th>\n",
       "      <th>n_unique</th>\n",
       "      <th>sample_unique</th>\n",
       "    </tr>\n",
       "  </thead>\n",
       "  <tbody>\n",
       "    <tr>\n",
       "      <th>0</th>\n",
       "      <td>ID</td>\n",
       "      <td>int64</td>\n",
       "      <td>0.0</td>\n",
       "      <td>False</td>\n",
       "      <td>10999</td>\n",
       "      <td>[1, 2, 3, 4, 5, 6, 7, 8, 9, 10, 11, 12, 13, 14...</td>\n",
       "    </tr>\n",
       "    <tr>\n",
       "      <th>1</th>\n",
       "      <td>Warehouse_block</td>\n",
       "      <td>object</td>\n",
       "      <td>0.0</td>\n",
       "      <td>False</td>\n",
       "      <td>5</td>\n",
       "      <td>[D, F, A, B, C]</td>\n",
       "    </tr>\n",
       "    <tr>\n",
       "      <th>2</th>\n",
       "      <td>Mode_of_Shipment</td>\n",
       "      <td>object</td>\n",
       "      <td>0.0</td>\n",
       "      <td>False</td>\n",
       "      <td>3</td>\n",
       "      <td>[Flight, Ship, Road]</td>\n",
       "    </tr>\n",
       "    <tr>\n",
       "      <th>3</th>\n",
       "      <td>Customer_care_calls</td>\n",
       "      <td>int64</td>\n",
       "      <td>0.0</td>\n",
       "      <td>False</td>\n",
       "      <td>6</td>\n",
       "      <td>[4, 2, 3, 5, 6, 7]</td>\n",
       "    </tr>\n",
       "    <tr>\n",
       "      <th>4</th>\n",
       "      <td>Customer_rating</td>\n",
       "      <td>int64</td>\n",
       "      <td>0.0</td>\n",
       "      <td>False</td>\n",
       "      <td>5</td>\n",
       "      <td>[2, 5, 3, 1, 4]</td>\n",
       "    </tr>\n",
       "    <tr>\n",
       "      <th>5</th>\n",
       "      <td>Cost_of_the_Product</td>\n",
       "      <td>int64</td>\n",
       "      <td>0.0</td>\n",
       "      <td>False</td>\n",
       "      <td>215</td>\n",
       "      <td>[177, 216, 183, 176, 184, 162, 250, 233, 150, ...</td>\n",
       "    </tr>\n",
       "    <tr>\n",
       "      <th>6</th>\n",
       "      <td>Prior_purchases</td>\n",
       "      <td>int64</td>\n",
       "      <td>0.0</td>\n",
       "      <td>False</td>\n",
       "      <td>8</td>\n",
       "      <td>[3, 2, 4, 6, 5, 7, 10, 8]</td>\n",
       "    </tr>\n",
       "    <tr>\n",
       "      <th>7</th>\n",
       "      <td>Product_importance</td>\n",
       "      <td>object</td>\n",
       "      <td>0.0</td>\n",
       "      <td>False</td>\n",
       "      <td>3</td>\n",
       "      <td>[low, medium, high]</td>\n",
       "    </tr>\n",
       "    <tr>\n",
       "      <th>8</th>\n",
       "      <td>Gender</td>\n",
       "      <td>object</td>\n",
       "      <td>0.0</td>\n",
       "      <td>False</td>\n",
       "      <td>2</td>\n",
       "      <td>[F, M]</td>\n",
       "    </tr>\n",
       "    <tr>\n",
       "      <th>9</th>\n",
       "      <td>Discount_offered</td>\n",
       "      <td>int64</td>\n",
       "      <td>0.0</td>\n",
       "      <td>False</td>\n",
       "      <td>65</td>\n",
       "      <td>[44, 59, 48, 10, 46, 12, 3, 11, 29, 32, 1, 43,...</td>\n",
       "    </tr>\n",
       "    <tr>\n",
       "      <th>10</th>\n",
       "      <td>Weight_in_gms</td>\n",
       "      <td>int64</td>\n",
       "      <td>0.0</td>\n",
       "      <td>False</td>\n",
       "      <td>4034</td>\n",
       "      <td>[1233, 3088, 3374, 1177, 2484, 1417, 2371, 280...</td>\n",
       "    </tr>\n",
       "    <tr>\n",
       "      <th>11</th>\n",
       "      <td>Reached.on.Time_Y.N</td>\n",
       "      <td>int64</td>\n",
       "      <td>0.0</td>\n",
       "      <td>False</td>\n",
       "      <td>2</td>\n",
       "      <td>[1, 0]</td>\n",
       "    </tr>\n",
       "  </tbody>\n",
       "</table>\n",
       "</div>"
      ],
      "text/plain": [
       "                feature data_type  null_value  neg_value  n_unique   \n",
       "0                    ID     int64         0.0      False     10999  \\\n",
       "1       Warehouse_block    object         0.0      False         5   \n",
       "2      Mode_of_Shipment    object         0.0      False         3   \n",
       "3   Customer_care_calls     int64         0.0      False         6   \n",
       "4       Customer_rating     int64         0.0      False         5   \n",
       "5   Cost_of_the_Product     int64         0.0      False       215   \n",
       "6       Prior_purchases     int64         0.0      False         8   \n",
       "7    Product_importance    object         0.0      False         3   \n",
       "8                Gender    object         0.0      False         2   \n",
       "9      Discount_offered     int64         0.0      False        65   \n",
       "10        Weight_in_gms     int64         0.0      False      4034   \n",
       "11  Reached.on.Time_Y.N     int64         0.0      False         2   \n",
       "\n",
       "                                        sample_unique  \n",
       "0   [1, 2, 3, 4, 5, 6, 7, 8, 9, 10, 11, 12, 13, 14...  \n",
       "1                                     [D, F, A, B, C]  \n",
       "2                                [Flight, Ship, Road]  \n",
       "3                                  [4, 2, 3, 5, 6, 7]  \n",
       "4                                     [2, 5, 3, 1, 4]  \n",
       "5   [177, 216, 183, 176, 184, 162, 250, 233, 150, ...  \n",
       "6                           [3, 2, 4, 6, 5, 7, 10, 8]  \n",
       "7                                 [low, medium, high]  \n",
       "8                                              [F, M]  \n",
       "9   [44, 59, 48, 10, 46, 12, 3, 11, 29, 32, 1, 43,...  \n",
       "10  [1233, 3088, 3374, 1177, 2484, 1417, 2371, 280...  \n",
       "11                                             [1, 0]  "
      ]
     },
     "execution_count": 6,
     "metadata": {},
     "output_type": "execute_result"
    }
   ],
   "source": [
    "# Display unique value\n",
    "\n",
    "pd.DataFrame(\n",
    "    {\n",
    "    'feature': df.columns.values,\n",
    "    'data_type': df.dtypes.values,\n",
    "    'null_value': df.isna().mean().values * 100,\n",
    "    'neg_value': [True if df[col].dtype == int and (df[col] < 0).any() else False for col in df.columns],\n",
    "    'n_unique': df.nunique().values,\n",
    "    'sample_unique': [df[col].unique() for col in df.columns]\n",
    "    }\n",
    ")"
   ]
  },
  {
   "attachments": {},
   "cell_type": "markdown",
   "metadata": {},
   "source": [
    "Insight\n",
    "- Dataset tidak memiliki missing value pada masing-masing kolom\n",
    "- Data yang bernilai negatif tidak ditemukan dalam dataset\n",
    "- Jumlah nilai unik dan contohnya dapat kita lihat pada informasi di atas"
   ]
  },
  {
   "attachments": {},
   "cell_type": "markdown",
   "metadata": {},
   "source": [
    "### `Missing Value`"
   ]
  },
  {
   "cell_type": "code",
   "execution_count": 7,
   "metadata": {},
   "outputs": [
    {
     "data": {
      "text/plain": [
       "ID                     0.0\n",
       "Warehouse_block        0.0\n",
       "Mode_of_Shipment       0.0\n",
       "Customer_care_calls    0.0\n",
       "Customer_rating        0.0\n",
       "Cost_of_the_Product    0.0\n",
       "Prior_purchases        0.0\n",
       "Product_importance     0.0\n",
       "Gender                 0.0\n",
       "Discount_offered       0.0\n",
       "Weight_in_gms          0.0\n",
       "Reached.on.Time_Y.N    0.0\n",
       "dtype: float64"
      ]
     },
     "execution_count": 7,
     "metadata": {},
     "output_type": "execute_result"
    }
   ],
   "source": [
    "# Percentage of missing value\n",
    "\n",
    "df.isna().sum()/df.shape[0]*100"
   ]
  },
  {
   "cell_type": "code",
   "execution_count": 8,
   "metadata": {},
   "outputs": [
    {
     "data": {
      "text/plain": [
       "<Axes: >"
      ]
     },
     "execution_count": 8,
     "metadata": {},
     "output_type": "execute_result"
    },
    {
     "data": {
      "image/png": "[encoded data removed]",
      "text/plain": [
       "<Figure size 1000x1000 with 2 Axes>"
      ]
     },
     "metadata": {},
     "output_type": "display_data"
    }
   ],
   "source": [
    "# Sebaran missing value di dalam data\n",
    "plt.figure(figsize=(10,10))\n",
    "sns.heatmap(df.isna(), cmap='mako')"
   ]
  },
  {
   "attachments": {},
   "cell_type": "markdown",
   "metadata": {},
   "source": [
    "Insight\n",
    "- Dataset secara keseluruhan tidak memiliki missing value pada masing-masing kolom\n",
    "- Tidak ada penanganan khusus pada tahapan ini"
   ]
  },
  {
   "cell_type": "markdown",
   "metadata": {},
   "source": [
    "### `Duplicated`"
   ]
  },
  {
   "cell_type": "code",
   "execution_count": 9,
   "metadata": {},
   "outputs": [
    {
     "name": "stdout",
     "output_type": "stream",
     "text": [
      "Jumlah data duplikat: 0\n"
     ]
    },
    {
     "data": {
      "text/html": [
       "<div>\n",
       "<style scoped>\n",
       "    .dataframe tbody tr th:only-of-type {\n",
       "        vertical-align: middle;\n",
       "    }\n",
       "\n",
       "    .dataframe tbody tr th {\n",
       "        vertical-align: top;\n",
       "    }\n",
       "\n",
       "    .dataframe thead th {\n",
       "        text-align: right;\n",
       "    }\n",
       "</style>\n",
       "<table border=\"1\" class=\"dataframe\">\n",
       "  <thead>\n",
       "    <tr style=\"text-align: right;\">\n",
       "      <th></th>\n",
       "      <th>ID</th>\n",
       "      <th>Warehouse_block</th>\n",
       "      <th>Mode_of_Shipment</th>\n",
       "      <th>Customer_care_calls</th>\n",
       "      <th>Customer_rating</th>\n",
       "      <th>Cost_of_the_Product</th>\n",
       "      <th>Prior_purchases</th>\n",
       "      <th>Product_importance</th>\n",
       "      <th>Gender</th>\n",
       "      <th>Discount_offered</th>\n",
       "      <th>Weight_in_gms</th>\n",
       "      <th>Reached.on.Time_Y.N</th>\n",
       "    </tr>\n",
       "  </thead>\n",
       "  <tbody>\n",
       "  </tbody>\n",
       "</table>\n",
       "</div>"
      ],
      "text/plain": [
       "Empty DataFrame\n",
       "Columns: [ID, Warehouse_block, Mode_of_Shipment, Customer_care_calls, Customer_rating, Cost_of_the_Product, Prior_purchases, Product_importance, Gender, Discount_offered, Weight_in_gms, Reached.on.Time_Y.N]\n",
       "Index: []"
      ]
     },
     "execution_count": 9,
     "metadata": {},
     "output_type": "execute_result"
    }
   ],
   "source": [
    "# Checking data duplication\n",
    "\n",
    "print(f'Jumlah data duplikat: {df[df.duplicated()].shape[0]}')\n",
    "df[df.duplicated()]"
   ]
  },
  {
   "cell_type": "markdown",
   "metadata": {},
   "source": [
    "Insight\n",
    "\n",
    "Tidak ditemukan duplikasi data pada dataset ini"
   ]
  },
  {
   "cell_type": "markdown",
   "metadata": {},
   "source": [
    "### `Correction`"
   ]
  },
  {
   "cell_type": "code",
   "execution_count": 30,
   "metadata": {},
   "outputs": [],
   "source": [
    "# Rename the columns\n",
    "\n",
    "df = df.rename(columns={'Discount_offered' : 'Discount_offered(%)', 'Reached.on.Time_Y.N' : 'Reached_on_Time_(Y/N)'})"
   ]
  },
  {
   "cell_type": "code",
   "execution_count": 29,
   "metadata": {},
   "outputs": [
    {
     "data": {
      "text/html": [
       "<div>\n",
       "<style scoped>\n",
       "    .dataframe tbody tr th:only-of-type {\n",
       "        vertical-align: middle;\n",
       "    }\n",
       "\n",
       "    .dataframe tbody tr th {\n",
       "        vertical-align: top;\n",
       "    }\n",
       "\n",
       "    .dataframe thead th {\n",
       "        text-align: right;\n",
       "    }\n",
       "</style>\n",
       "<table border=\"1\" class=\"dataframe\">\n",
       "  <thead>\n",
       "    <tr style=\"text-align: right;\">\n",
       "      <th></th>\n",
       "      <th>Warehouse_block</th>\n",
       "      <th>Mode_of_Shipment</th>\n",
       "      <th>Customer_care_calls</th>\n",
       "      <th>Customer_rating</th>\n",
       "      <th>Cost_of_the_Product</th>\n",
       "      <th>Prior_purchases</th>\n",
       "      <th>Product_importance</th>\n",
       "      <th>Gender</th>\n",
       "      <th>Discount_offered(%)</th>\n",
       "      <th>Weight_in_gms</th>\n",
       "      <th>Reached_on_Time_(Y/N)</th>\n",
       "    </tr>\n",
       "  </thead>\n",
       "  <tbody>\n",
       "    <tr>\n",
       "      <th>0</th>\n",
       "      <td>D</td>\n",
       "      <td>Flight</td>\n",
       "      <td>4</td>\n",
       "      <td>2</td>\n",
       "      <td>177</td>\n",
       "      <td>3</td>\n",
       "      <td>low</td>\n",
       "      <td>F</td>\n",
       "      <td>44</td>\n",
       "      <td>1233</td>\n",
       "      <td>N</td>\n",
       "    </tr>\n",
       "    <tr>\n",
       "      <th>1</th>\n",
       "      <td>F</td>\n",
       "      <td>Flight</td>\n",
       "      <td>4</td>\n",
       "      <td>5</td>\n",
       "      <td>216</td>\n",
       "      <td>2</td>\n",
       "      <td>low</td>\n",
       "      <td>M</td>\n",
       "      <td>59</td>\n",
       "      <td>3088</td>\n",
       "      <td>N</td>\n",
       "    </tr>\n",
       "    <tr>\n",
       "      <th>2</th>\n",
       "      <td>A</td>\n",
       "      <td>Flight</td>\n",
       "      <td>2</td>\n",
       "      <td>2</td>\n",
       "      <td>183</td>\n",
       "      <td>4</td>\n",
       "      <td>low</td>\n",
       "      <td>M</td>\n",
       "      <td>48</td>\n",
       "      <td>3374</td>\n",
       "      <td>N</td>\n",
       "    </tr>\n",
       "    <tr>\n",
       "      <th>3</th>\n",
       "      <td>B</td>\n",
       "      <td>Flight</td>\n",
       "      <td>3</td>\n",
       "      <td>3</td>\n",
       "      <td>176</td>\n",
       "      <td>4</td>\n",
       "      <td>medium</td>\n",
       "      <td>M</td>\n",
       "      <td>10</td>\n",
       "      <td>1177</td>\n",
       "      <td>N</td>\n",
       "    </tr>\n",
       "    <tr>\n",
       "      <th>4</th>\n",
       "      <td>C</td>\n",
       "      <td>Flight</td>\n",
       "      <td>2</td>\n",
       "      <td>2</td>\n",
       "      <td>184</td>\n",
       "      <td>3</td>\n",
       "      <td>medium</td>\n",
       "      <td>F</td>\n",
       "      <td>46</td>\n",
       "      <td>2484</td>\n",
       "      <td>N</td>\n",
       "    </tr>\n",
       "  </tbody>\n",
       "</table>\n",
       "</div>"
      ],
      "text/plain": [
       "  Warehouse_block Mode_of_Shipment  Customer_care_calls  Customer_rating   \n",
       "0               D           Flight                    4                2  \\\n",
       "1               F           Flight                    4                5   \n",
       "2               A           Flight                    2                2   \n",
       "3               B           Flight                    3                3   \n",
       "4               C           Flight                    2                2   \n",
       "\n",
       "   Cost_of_the_Product  Prior_purchases Product_importance Gender   \n",
       "0                  177                3                low      F  \\\n",
       "1                  216                2                low      M   \n",
       "2                  183                4                low      M   \n",
       "3                  176                4             medium      M   \n",
       "4                  184                3             medium      F   \n",
       "\n",
       "   Discount_offered(%)  Weight_in_gms Reached_on_Time_(Y/N)  \n",
       "0                   44           1233                     N  \n",
       "1                   59           3088                     N  \n",
       "2                   48           3374                     N  \n",
       "3                   10           1177                     N  \n",
       "4                   46           2484                     N  "
      ]
     },
     "execution_count": 29,
     "metadata": {},
     "output_type": "execute_result"
    }
   ],
   "source": [
    "# Replace column value\n",
    "\n",
    "df['Reached_on_Time_(Y/N)'] = df['Reached_on_Time_(Y/N)'].replace([0, 1], ['Y', 'N'])\n",
    "df.head()"
   ]
  },
  {
   "cell_type": "markdown",
   "metadata": {},
   "source": [
    "### `Eliminated`"
   ]
  },
  {
   "cell_type": "code",
   "execution_count": 12,
   "metadata": {},
   "outputs": [],
   "source": [
    "df.drop(columns=['ID'], inplace=True)"
   ]
  },
  {
   "cell_type": "markdown",
   "metadata": {},
   "source": [
    "Insight\n",
    "\n",
    "Kolom ID pada dataset tidak diperlukan untuk analisis selanjutnya karena tanpa ID, data dalam baris sudah mewakili karakteristik riwayat data pelanggan  "
   ]
  },
  {
   "attachments": {},
   "cell_type": "markdown",
   "metadata": {},
   "source": [
    "## `Detecting Outliers`"
   ]
  },
  {
   "cell_type": "code",
   "execution_count": 13,
   "metadata": {},
   "outputs": [],
   "source": [
    "# Function for searching outliers using IQR Method\n",
    "\n",
    "def search_outliers (df):\n",
    "   Q1 = df.quantile(0.25)\n",
    "   Q3 = df.quantile(0.75)\n",
    "   IQR = Q3-Q1\n",
    "   outliers = df[((df<(Q1-1.5*IQR)) | (df>(Q3+1.5*IQR)))]\n",
    "   return outliers"
   ]
  },
  {
   "cell_type": "code",
   "execution_count": 14,
   "metadata": {},
   "outputs": [
    {
     "name": "stdout",
     "output_type": "stream",
     "text": [
      "number of outliers: 0\n",
      "max outlier value: nan\n",
      "min outlier value: nan\n"
     ]
    },
    {
     "data": {
      "text/plain": [
       "Series([], Name: Customer_care_calls, dtype: int64)"
      ]
     },
     "execution_count": 14,
     "metadata": {},
     "output_type": "execute_result"
    }
   ],
   "source": [
    "# Customer_care_calls\n",
    "\n",
    "outliers_Customer_care_calls = search_outliers(df['Customer_care_calls'])\n",
    "\n",
    "print('number of outliers: ' + str(len(outliers_Customer_care_calls)))\n",
    "\n",
    "print('max outlier value: ' + str(outliers_Customer_care_calls.max()))\n",
    "\n",
    "print('min outlier value: '+ str(outliers_Customer_care_calls.min()))\n",
    "\n",
    "outliers_Customer_care_calls"
   ]
  },
  {
   "cell_type": "code",
   "execution_count": 15,
   "metadata": {},
   "outputs": [
    {
     "data": {
      "image/png": "[encoded data removed]",
      "text/plain": [
       "<Figure size 640x480 with 2 Axes>"
      ]
     },
     "metadata": {},
     "output_type": "display_data"
    }
   ],
   "source": [
    "fig, (ax_box, ax_hist) = plt.subplots(2, sharex=True, gridspec_kw={\"height_ratios\": (1, 2)})    \n",
    "\n",
    "sns.boxplot(df['Customer_care_calls'], ax=ax_box, color='#a9d6e5')\n",
    "sns.histplot(data=df, x='Customer_care_calls', ax=ax_hist, kde=True, color='#012a4a')\n",
    "\n",
    "plt.show()"
   ]
  },
  {
   "cell_type": "code",
   "execution_count": 16,
   "metadata": {},
   "outputs": [
    {
     "name": "stdout",
     "output_type": "stream",
     "text": [
      "Kolom ['Customer_care_calls'] tidak berdistribusi normal\n"
     ]
    }
   ],
   "source": [
    "kolom = ['Customer_care_calls']\n",
    "\n",
    "for i in kolom:\n",
    "    stats, pval = normaltest(df[kolom])\n",
    "    if pval <= 0.05:\n",
    "        print(f'Kolom {kolom} tidak berdistribusi normal')\n",
    "    else:\n",
    "        print(f'Kolom {kolom} berdistribusi normal')"
   ]
  },
  {
   "cell_type": "code",
   "execution_count": 17,
   "metadata": {},
   "outputs": [
    {
     "name": "stdout",
     "output_type": "stream",
     "text": [
      "number of outliers: 0\n",
      "max outlier value: nan\n",
      "min outlier value: nan\n"
     ]
    },
    {
     "data": {
      "text/plain": [
       "Series([], Name: Customer_rating, dtype: int64)"
      ]
     },
     "execution_count": 17,
     "metadata": {},
     "output_type": "execute_result"
    }
   ],
   "source": [
    "# Customer_rating\n",
    "\n",
    "outliers_Customer_rating = search_outliers (df['Customer_rating'])\n",
    "\n",
    "print('number of outliers: ' + str(len(outliers_Customer_rating)))\n",
    "\n",
    "print('max outlier value: ' + str(outliers_Customer_rating.max()))\n",
    "\n",
    "print('min outlier value: '+ str(outliers_Customer_rating.min()))\n",
    "\n",
    "outliers_Customer_rating"
   ]
  },
  {
   "cell_type": "code",
   "execution_count": 18,
   "metadata": {},
   "outputs": [
    {
     "data": {
      "image/png": "[encoded data removed]",
      "text/plain": [
       "<Figure size 640x480 with 2 Axes>"
      ]
     },
     "metadata": {},
     "output_type": "display_data"
    }
   ],
   "source": [
    "fig, (ax_box, ax_hist) = plt.subplots(2, sharex=True, gridspec_kw={\"height_ratios\": (1, 2)})    \n",
    "\n",
    "sns.boxplot(df['Customer_rating'], ax=ax_box, color='#c77dff')\n",
    "sns.histplot(data=df, x='Customer_rating', ax=ax_hist, kde=True, color='#240046')\n",
    "\n",
    "plt.show()"
   ]
  },
  {
   "cell_type": "code",
   "execution_count": 19,
   "metadata": {},
   "outputs": [
    {
     "name": "stdout",
     "output_type": "stream",
     "text": [
      "Kolom ['Customer_rating'] tidak berdistribusi normal\n"
     ]
    }
   ],
   "source": [
    "kolom = ['Customer_rating']\n",
    "\n",
    "for i in kolom:\n",
    "    stats, pval = normaltest(df[kolom])\n",
    "    if pval <= 0.05:\n",
    "        print(f'Kolom {kolom} tidak berdistribusi normal')\n",
    "    else:\n",
    "        print(f'Kolom {kolom} berdistribusi normal')"
   ]
  },
  {
   "cell_type": "code",
   "execution_count": 20,
   "metadata": {},
   "outputs": [
    {
     "name": "stdout",
     "output_type": "stream",
     "text": [
      "number of outliers: 0\n",
      "max outlier value: nan\n",
      "min outlier value: nan\n"
     ]
    },
    {
     "data": {
      "text/plain": [
       "Series([], Name: Cost_of_the_Product, dtype: int64)"
      ]
     },
     "execution_count": 20,
     "metadata": {},
     "output_type": "execute_result"
    }
   ],
   "source": [
    "# Cost_of_the_Product\n",
    "\n",
    "outliers_Cost_of_the_Product = search_outliers (df['Cost_of_the_Product'])\n",
    "\n",
    "print('number of outliers: ' + str(len(outliers_Cost_of_the_Product)))\n",
    "\n",
    "print('max outlier value: ' + str(outliers_Cost_of_the_Product.max()))\n",
    "\n",
    "print('min outlier value: '+ str(outliers_Cost_of_the_Product.min()))\n",
    "\n",
    "outliers_Cost_of_the_Product"
   ]
  },
  {
   "cell_type": "code",
   "execution_count": 21,
   "metadata": {},
   "outputs": [
    {
     "data": {
      "image/png": "[encoded data removed]",
      "text/plain": [
       "<Figure size 640x480 with 2 Axes>"
      ]
     },
     "metadata": {},
     "output_type": "display_data"
    }
   ],
   "source": [
    "fig, (ax_box, ax_hist) = plt.subplots(2, sharex=True, gridspec_kw={\"height_ratios\": (10, 12)})    \n",
    "\n",
    "sns.boxplot(df['Cost_of_the_Product'], ax=ax_box, color='#9DC08B')\n",
    "sns.histplot(data=df, x='Cost_of_the_Product', ax=ax_hist, kde=True, color='#609966')\n",
    "\n",
    "plt.show()"
   ]
  },
  {
   "cell_type": "code",
   "execution_count": 22,
   "metadata": {},
   "outputs": [
    {
     "name": "stdout",
     "output_type": "stream",
     "text": [
      "Kolom ['Cost_of_the_Product'] tidak berdistribusi normal\n"
     ]
    }
   ],
   "source": [
    "kolom = ['Cost_of_the_Product']\n",
    "\n",
    "for i in kolom:\n",
    "    stats, pval = normaltest(df[kolom])\n",
    "    if pval <= 0.05:\n",
    "        print(f'Kolom {kolom} tidak berdistribusi normal')\n",
    "    else:\n",
    "        print(f'Kolom {kolom} berdistribusi normal')"
   ]
  },
  {
   "cell_type": "code",
   "execution_count": 23,
   "metadata": {},
   "outputs": [
    {
     "name": "stdout",
     "output_type": "stream",
     "text": [
      "number of outliers: 1003\n",
      "max outlier value: 10\n",
      "min outlier value: 6\n"
     ]
    },
    {
     "data": {
      "text/plain": [
       "478    8\n",
       "Name: Prior_purchases, dtype: int64"
      ]
     },
     "execution_count": 23,
     "metadata": {},
     "output_type": "execute_result"
    }
   ],
   "source": [
    "# Prior_purchases\n",
    "\n",
    "outliers_Prior_purchases = search_outliers (df['Prior_purchases'])\n",
    "\n",
    "print('number of outliers: ' + str(len(outliers_Prior_purchases)))\n",
    "\n",
    "print('max outlier value: ' + str(outliers_Prior_purchases.max()))\n",
    "\n",
    "print('min outlier value: '+ str(outliers_Prior_purchases.min()))\n",
    "\n",
    "outliers_Prior_purchases.sample()"
   ]
  },
  {
   "cell_type": "code",
   "execution_count": 24,
   "metadata": {},
   "outputs": [
    {
     "name": "stdout",
     "output_type": "stream",
     "text": [
      "Precentage of outliers (%) : 9.119010819165378\n"
     ]
    }
   ],
   "source": [
    "# Find the precentage of outliers\n",
    "\n",
    "outliers_Prior_purchases = df['Prior_purchases'].quantile(0.75) + 1.5 * (df['Prior_purchases'].quantile(0.75) - df['Prior_purchases'].quantile(0.25))\n",
    "Percent_Prior_purchases = df[df['Prior_purchases'] > outliers_Prior_purchases]\n",
    "Precentage = len(Percent_Prior_purchases)/len(df['Prior_purchases']) * 100 \n",
    "\n",
    "print(f'Precentage of outliers (%) : {Precentage}')"
   ]
  },
  {
   "cell_type": "code",
   "execution_count": 25,
   "metadata": {},
   "outputs": [
    {
     "data": {
      "image/png": "[encoded data removed]",
      "text/plain": [
       "<Figure size 640x480 with 2 Axes>"
      ]
     },
     "metadata": {},
     "output_type": "display_data"
    }
   ],
   "source": [
    "fig, (ax_box, ax_hist) = plt.subplots(2, sharex=True, gridspec_kw={\"height_ratios\": (2, 3)})    \n",
    "\n",
    "sns.boxplot(df['Prior_purchases'], ax=ax_box, color='#7FC8A9')\n",
    "sns.histplot(data=df, x='Prior_purchases', ax=ax_hist, kde=True, color='#5F7A61')\n",
    "\n",
    "plt.show()"
   ]
  },
  {
   "cell_type": "code",
   "execution_count": 26,
   "metadata": {},
   "outputs": [
    {
     "name": "stdout",
     "output_type": "stream",
     "text": [
      "Kolom ['Prior_purchases'] tidak berdistribusi normal\n"
     ]
    }
   ],
   "source": [
    "kolom = ['Prior_purchases']\n",
    "\n",
    "for i in kolom:\n",
    "    stats, pval = normaltest(df[kolom])\n",
    "    if pval <= 0.05:\n",
    "        print(f'Kolom {kolom} tidak berdistribusi normal')\n",
    "    else:\n",
    "        print(f'Kolom {kolom} berdistribusi normal')"
   ]
  },
  {
   "cell_type": "code",
   "execution_count": 32,
   "metadata": {},
   "outputs": [
    {
     "name": "stdout",
     "output_type": "stream",
     "text": [
      "number of outliers: 2209\n",
      "max outlier value: 65\n",
      "min outlier value: 20\n"
     ]
    },
    {
     "data": {
      "text/plain": [
       "441    45\n",
       "Name: Discount_offered(%), dtype: int64"
      ]
     },
     "execution_count": 32,
     "metadata": {},
     "output_type": "execute_result"
    }
   ],
   "source": [
    "# Discount_offered\n",
    "\n",
    "outliers_Discount_offered = search_outliers (df['Discount_offered(%)'])\n",
    "\n",
    "print('number of outliers: ' + str(len(outliers_Discount_offered)))\n",
    "\n",
    "print('max outlier value: ' + str(outliers_Discount_offered.max()))\n",
    "\n",
    "print('min outlier value: '+ str(outliers_Discount_offered.min()))\n",
    "\n",
    "outliers_Discount_offered.sample()"
   ]
  },
  {
   "cell_type": "code",
   "execution_count": null,
   "metadata": {},
   "outputs": [
    {
     "name": "stdout",
     "output_type": "stream",
     "text": [
      "Precentages of outliers : 9.5099554504955\n"
     ]
    }
   ],
   "source": [
    "# find the precentage of outliers\n",
    "DiscountOutliers = df[df['Discount_offered'] > outliers_Discount_offered[0]]\n",
    "Precentage = len(DiscountOutliers)/len(df.Discount_offered) * 100 \n",
    "\n",
    "print(f'Precentages of outliers : {Precentage}')"
   ]
  },
  {
   "cell_type": "code",
   "execution_count": null,
   "metadata": {},
   "outputs": [
    {
     "data": {
      "image/png": "[encoded data removed]",
      "text/plain": [
       "<Figure size 640x480 with 2 Axes>"
      ]
     },
     "metadata": {},
     "output_type": "display_data"
    }
   ],
   "source": [
    "fig, (ax_box, ax_hist) = plt.subplots(2, sharex=True, gridspec_kw={\"height_ratios\": (6, 8)})    \n",
    "\n",
    "sns.boxplot(df['Discount_offered'], ax=ax_box, color='#635985')\n",
    "sns.histplot(data=df, x='Discount_offered', ax=ax_hist, kde=True, color='#635985')\n",
    "\n",
    "plt.show()"
   ]
  },
  {
   "cell_type": "code",
   "execution_count": null,
   "metadata": {},
   "outputs": [
    {
     "name": "stdout",
     "output_type": "stream",
     "text": [
      "Kolom ['Discount_offered'] tidak berdistribusi normal\n"
     ]
    }
   ],
   "source": [
    "kolom = ['Discount_offered']\n",
    "\n",
    "for i in kolom:\n",
    "    stats, pval = normaltest(df[kolom])\n",
    "    if pval <= 0.05:\n",
    "        print(f'Kolom {kolom} tidak berdistribusi normal')\n",
    "    else:\n",
    "        print(f'Kolom {kolom} berdistribusi normal')"
   ]
  },
  {
   "cell_type": "code",
   "execution_count": null,
   "metadata": {},
   "outputs": [
    {
     "name": "stdout",
     "output_type": "stream",
     "text": [
      "number of outliers: 0\n",
      "max outlier value: nan\n",
      "min outlier value: nan\n"
     ]
    },
    {
     "data": {
      "text/plain": [
       "Series([], Name: Weight_in_gms, dtype: int64)"
      ]
     },
     "execution_count": 37,
     "metadata": {},
     "output_type": "execute_result"
    }
   ],
   "source": [
    "# Weight_in_gms\n",
    "\n",
    "outliers_Weight_in_gms = search_outliers (df['Weight_in_gms'])\n",
    "\n",
    "print('number of outliers: ' + str(len(outliers_Weight_in_gms)))\n",
    "\n",
    "print('max outlier value: ' + str(outliers_Weight_in_gms.max()))\n",
    "\n",
    "print('min outlier value: '+ str(outliers_Weight_in_gms.min()))\n",
    "\n",
    "outliers_Weight_in_gms"
   ]
  },
  {
   "cell_type": "code",
   "execution_count": null,
   "metadata": {},
   "outputs": [
    {
     "data": {
      "image/png": "[encoded data removed]",
      "text/plain": [
       "<Figure size 800x400 with 2 Axes>"
      ]
     },
     "metadata": {},
     "output_type": "display_data"
    }
   ],
   "source": [
    "fig, (ax_box, ax_hist) = plt.subplots(nrows=2, ncols=1, figsize=(8, 4), sharex=True, gridspec_kw={\"height_ratios\": (10, 12)})    \n",
    "\n",
    "sns.boxplot(df['Weight_in_gms'], ax=ax_box, color='#570A57')\n",
    "sns.histplot(data=df, x='Weight_in_gms', ax=ax_hist, kde=True, color='#570A57')\n",
    "\n",
    "plt.show()"
   ]
  },
  {
   "cell_type": "code",
   "execution_count": null,
   "metadata": {},
   "outputs": [
    {
     "name": "stdout",
     "output_type": "stream",
     "text": [
      "Kolom ['Weight_in_gms'] tidak berdistribusi normal\n"
     ]
    }
   ],
   "source": [
    "kolom = ['Weight_in_gms']\n",
    "\n",
    "for i in kolom:\n",
    "    stats, pval = normaltest(df[kolom])\n",
    "    if pval <= 0.05:\n",
    "        print(f'Kolom {kolom} tidak berdistribusi normal')\n",
    "    else:\n",
    "        print(f'Kolom {kolom} berdistribusi normal')"
   ]
  },
  {
   "attachments": {},
   "cell_type": "markdown",
   "metadata": {},
   "source": [
    "Insight\n",
    "- Ada dua kolom yang memilki outliers dengan persentase di atas 5% yaitu kolom Prior_purchases dan Discount_offered, sehingga perlu dilakukan penanganan\n",
    "- Grafik visual berupa boxplot memudahkan kita melihat keberadaan oultiers dan grafik histogram memberikan kita informasi terkait jenis distribusi pada dataset yang sebagian besar memiliki skewness\n",
    "- Berdasarkan uji statistik juga diketahui bahwa data tidak berdistribusi normal"
   ]
  },
  {
   "attachments": {},
   "cell_type": "markdown",
   "metadata": {},
   "source": [
    "## `Handling Outliers`\n",
    "Outliers ditemukan pada kolom Prior_purchases dan Discount_offered. Penanganan outliers pada kedua kolom akan dibuat ke dalam bentuk interval dengan metode median dan MAD."
   ]
  },
  {
   "attachments": {},
   "cell_type": "markdown",
   "metadata": {},
   "source": [
    "Prior_purchases"
   ]
  },
  {
   "cell_type": "code",
   "execution_count": null,
   "metadata": {},
   "outputs": [
    {
     "name": "stdout",
     "output_type": "stream",
     "text": [
      "Median : 3.0, MAD : 1.0, Lower : 2.0, Upper : 4.0\n"
     ]
    }
   ],
   "source": [
    "# Display the value of Median and MAD\n",
    "\n",
    "Prior_purchases_Median = df.Prior_purchases.median()\n",
    "Prior_purchases_MAD = abs(df.Prior_purchases - df.Prior_purchases.median()).median()\n",
    "\n",
    "Lower = Prior_purchases_Median - Prior_purchases_MAD\n",
    "Upper = Prior_purchases_Median + Prior_purchases_MAD\n",
    "\n",
    "print(f'Median : {Prior_purchases_Median}, MAD : {Prior_purchases_MAD}, Lower : {Lower}, Upper : {Upper}')"
   ]
  },
  {
   "cell_type": "code",
   "execution_count": 33,
   "metadata": {},
   "outputs": [
    {
     "data": {
      "text/html": [
       "<div>\n",
       "<style scoped>\n",
       "    .dataframe tbody tr th:only-of-type {\n",
       "        vertical-align: middle;\n",
       "    }\n",
       "\n",
       "    .dataframe tbody tr th {\n",
       "        vertical-align: top;\n",
       "    }\n",
       "\n",
       "    .dataframe thead th {\n",
       "        text-align: right;\n",
       "    }\n",
       "</style>\n",
       "<table border=\"1\" class=\"dataframe\">\n",
       "  <thead>\n",
       "    <tr style=\"text-align: right;\">\n",
       "      <th></th>\n",
       "      <th>Warehouse_block</th>\n",
       "      <th>Mode_of_Shipment</th>\n",
       "      <th>Customer_care_calls</th>\n",
       "      <th>Customer_rating</th>\n",
       "      <th>Cost_of_the_Product</th>\n",
       "      <th>Prior_purchases</th>\n",
       "      <th>Prior_purchases_interval</th>\n",
       "      <th>Product_importance</th>\n",
       "      <th>Gender</th>\n",
       "      <th>Discount_offered(%)</th>\n",
       "      <th>Weight_in_gms</th>\n",
       "      <th>Reached_on_Time_(Y/N)</th>\n",
       "    </tr>\n",
       "  </thead>\n",
       "  <tbody>\n",
       "    <tr>\n",
       "      <th>0</th>\n",
       "      <td>D</td>\n",
       "      <td>Flight</td>\n",
       "      <td>4</td>\n",
       "      <td>2</td>\n",
       "      <td>177</td>\n",
       "      <td>3</td>\n",
       "      <td>2 - 4</td>\n",
       "      <td>low</td>\n",
       "      <td>F</td>\n",
       "      <td>44</td>\n",
       "      <td>1233</td>\n",
       "      <td>N</td>\n",
       "    </tr>\n",
       "    <tr>\n",
       "      <th>1</th>\n",
       "      <td>F</td>\n",
       "      <td>Flight</td>\n",
       "      <td>4</td>\n",
       "      <td>5</td>\n",
       "      <td>216</td>\n",
       "      <td>2</td>\n",
       "      <td>0 - 2</td>\n",
       "      <td>low</td>\n",
       "      <td>M</td>\n",
       "      <td>59</td>\n",
       "      <td>3088</td>\n",
       "      <td>N</td>\n",
       "    </tr>\n",
       "    <tr>\n",
       "      <th>2</th>\n",
       "      <td>A</td>\n",
       "      <td>Flight</td>\n",
       "      <td>2</td>\n",
       "      <td>2</td>\n",
       "      <td>183</td>\n",
       "      <td>4</td>\n",
       "      <td>2 - 4</td>\n",
       "      <td>low</td>\n",
       "      <td>M</td>\n",
       "      <td>48</td>\n",
       "      <td>3374</td>\n",
       "      <td>N</td>\n",
       "    </tr>\n",
       "    <tr>\n",
       "      <th>3</th>\n",
       "      <td>B</td>\n",
       "      <td>Flight</td>\n",
       "      <td>3</td>\n",
       "      <td>3</td>\n",
       "      <td>176</td>\n",
       "      <td>4</td>\n",
       "      <td>2 - 4</td>\n",
       "      <td>medium</td>\n",
       "      <td>M</td>\n",
       "      <td>10</td>\n",
       "      <td>1177</td>\n",
       "      <td>N</td>\n",
       "    </tr>\n",
       "    <tr>\n",
       "      <th>4</th>\n",
       "      <td>C</td>\n",
       "      <td>Flight</td>\n",
       "      <td>2</td>\n",
       "      <td>2</td>\n",
       "      <td>184</td>\n",
       "      <td>3</td>\n",
       "      <td>2 - 4</td>\n",
       "      <td>medium</td>\n",
       "      <td>F</td>\n",
       "      <td>46</td>\n",
       "      <td>2484</td>\n",
       "      <td>N</td>\n",
       "    </tr>\n",
       "  </tbody>\n",
       "</table>\n",
       "</div>"
      ],
      "text/plain": [
       "  Warehouse_block Mode_of_Shipment  Customer_care_calls  Customer_rating   \n",
       "0               D           Flight                    4                2  \\\n",
       "1               F           Flight                    4                5   \n",
       "2               A           Flight                    2                2   \n",
       "3               B           Flight                    3                3   \n",
       "4               C           Flight                    2                2   \n",
       "\n",
       "   Cost_of_the_Product  Prior_purchases Prior_purchases_interval   \n",
       "0                  177                3                    2 - 4  \\\n",
       "1                  216                2                    0 - 2   \n",
       "2                  183                4                    2 - 4   \n",
       "3                  176                4                    2 - 4   \n",
       "4                  184                3                    2 - 4   \n",
       "\n",
       "  Product_importance Gender  Discount_offered(%)  Weight_in_gms   \n",
       "0                low      F                   44           1233  \\\n",
       "1                low      M                   59           3088   \n",
       "2                low      M                   48           3374   \n",
       "3             medium      M                   10           1177   \n",
       "4             medium      F                   46           2484   \n",
       "\n",
       "  Reached_on_Time_(Y/N)  \n",
       "0                     N  \n",
       "1                     N  \n",
       "2                     N  \n",
       "3                     N  \n",
       "4                     N  "
      ]
     },
     "execution_count": 33,
     "metadata": {},
     "output_type": "execute_result"
    }
   ],
   "source": [
    "# Prior Purchases Interval\n",
    "\n",
    "def Prior_purchases_interval (df):\n",
    "    if 10 > df['Prior_purchases'] > 2:\n",
    "        return \"2 - 4\"\n",
    "    elif df['Prior_purchases'] <= 2:\n",
    "        return \"0 - 2\"\n",
    "    else:\n",
    "        return \"> 4\"\n",
    "    \n",
    "df['Prior_purchases_interval'] = df.apply(Prior_purchases_interval, axis=1)\n",
    "\n",
    "# Relocate Prior_purchases_interval next to Prior_purchases\n",
    "df.insert(df.columns.get_loc('Prior_purchases') + 1, 'Prior_purchases_interval', df.pop('Prior_purchases_interval'))\n",
    "df.head()"
   ]
  },
  {
   "attachments": {},
   "cell_type": "markdown",
   "metadata": {},
   "source": [
    "Discount_offered"
   ]
  },
  {
   "cell_type": "code",
   "execution_count": null,
   "metadata": {},
   "outputs": [
    {
     "name": "stdout",
     "output_type": "stream",
     "text": [
      "Median : 7.0, MAD : 3.0, Lower : 4.0, Upper : 10.0\n"
     ]
    }
   ],
   "source": [
    "# Display the value of Median and MAD \n",
    "\n",
    "Discount_offered_Median = df.Discount_offered.median()\n",
    "Discount_offered_MAD = abs(df.Discount_offered - df.Discount_offered.median()).median()\n",
    "\n",
    "Lower = Discount_offered_Median - Discount_offered_MAD\n",
    "Upper = Discount_offered_Median + Discount_offered_MAD\n",
    "\n",
    "print(f'Median : {Discount_offered_Median}, MAD : {Discount_offered_MAD}, Lower : {Lower}, Upper : {Upper}')"
   ]
  },
  {
   "cell_type": "code",
   "execution_count": 36,
   "metadata": {},
   "outputs": [
    {
     "data": {
      "text/html": [
       "<div>\n",
       "<style scoped>\n",
       "    .dataframe tbody tr th:only-of-type {\n",
       "        vertical-align: middle;\n",
       "    }\n",
       "\n",
       "    .dataframe tbody tr th {\n",
       "        vertical-align: top;\n",
       "    }\n",
       "\n",
       "    .dataframe thead th {\n",
       "        text-align: right;\n",
       "    }\n",
       "</style>\n",
       "<table border=\"1\" class=\"dataframe\">\n",
       "  <thead>\n",
       "    <tr style=\"text-align: right;\">\n",
       "      <th></th>\n",
       "      <th>Warehouse_block</th>\n",
       "      <th>Mode_of_Shipment</th>\n",
       "      <th>Customer_care_calls</th>\n",
       "      <th>Customer_rating</th>\n",
       "      <th>Cost_of_the_Product</th>\n",
       "      <th>Prior_purchases</th>\n",
       "      <th>Prior_purchases_interval</th>\n",
       "      <th>Product_importance</th>\n",
       "      <th>Gender</th>\n",
       "      <th>Discount_offered(%)</th>\n",
       "      <th>Discount_interval</th>\n",
       "      <th>Weight_in_gms</th>\n",
       "      <th>Reached_on_Time_(Y/N)</th>\n",
       "    </tr>\n",
       "  </thead>\n",
       "  <tbody>\n",
       "    <tr>\n",
       "      <th>0</th>\n",
       "      <td>D</td>\n",
       "      <td>Flight</td>\n",
       "      <td>4</td>\n",
       "      <td>2</td>\n",
       "      <td>177</td>\n",
       "      <td>3</td>\n",
       "      <td>2 - 4</td>\n",
       "      <td>low</td>\n",
       "      <td>F</td>\n",
       "      <td>44</td>\n",
       "      <td>&gt; 10</td>\n",
       "      <td>1233</td>\n",
       "      <td>N</td>\n",
       "    </tr>\n",
       "    <tr>\n",
       "      <th>1</th>\n",
       "      <td>F</td>\n",
       "      <td>Flight</td>\n",
       "      <td>4</td>\n",
       "      <td>5</td>\n",
       "      <td>216</td>\n",
       "      <td>2</td>\n",
       "      <td>0 - 2</td>\n",
       "      <td>low</td>\n",
       "      <td>M</td>\n",
       "      <td>59</td>\n",
       "      <td>&gt; 10</td>\n",
       "      <td>3088</td>\n",
       "      <td>N</td>\n",
       "    </tr>\n",
       "    <tr>\n",
       "      <th>2</th>\n",
       "      <td>A</td>\n",
       "      <td>Flight</td>\n",
       "      <td>2</td>\n",
       "      <td>2</td>\n",
       "      <td>183</td>\n",
       "      <td>4</td>\n",
       "      <td>2 - 4</td>\n",
       "      <td>low</td>\n",
       "      <td>M</td>\n",
       "      <td>48</td>\n",
       "      <td>&gt; 10</td>\n",
       "      <td>3374</td>\n",
       "      <td>N</td>\n",
       "    </tr>\n",
       "    <tr>\n",
       "      <th>3</th>\n",
       "      <td>B</td>\n",
       "      <td>Flight</td>\n",
       "      <td>3</td>\n",
       "      <td>3</td>\n",
       "      <td>176</td>\n",
       "      <td>4</td>\n",
       "      <td>2 - 4</td>\n",
       "      <td>medium</td>\n",
       "      <td>M</td>\n",
       "      <td>10</td>\n",
       "      <td>&gt; 10</td>\n",
       "      <td>1177</td>\n",
       "      <td>N</td>\n",
       "    </tr>\n",
       "    <tr>\n",
       "      <th>4</th>\n",
       "      <td>C</td>\n",
       "      <td>Flight</td>\n",
       "      <td>2</td>\n",
       "      <td>2</td>\n",
       "      <td>184</td>\n",
       "      <td>3</td>\n",
       "      <td>2 - 4</td>\n",
       "      <td>medium</td>\n",
       "      <td>F</td>\n",
       "      <td>46</td>\n",
       "      <td>&gt; 10</td>\n",
       "      <td>2484</td>\n",
       "      <td>N</td>\n",
       "    </tr>\n",
       "  </tbody>\n",
       "</table>\n",
       "</div>"
      ],
      "text/plain": [
       "  Warehouse_block Mode_of_Shipment  Customer_care_calls  Customer_rating   \n",
       "0               D           Flight                    4                2  \\\n",
       "1               F           Flight                    4                5   \n",
       "2               A           Flight                    2                2   \n",
       "3               B           Flight                    3                3   \n",
       "4               C           Flight                    2                2   \n",
       "\n",
       "   Cost_of_the_Product  Prior_purchases Prior_purchases_interval   \n",
       "0                  177                3                    2 - 4  \\\n",
       "1                  216                2                    0 - 2   \n",
       "2                  183                4                    2 - 4   \n",
       "3                  176                4                    2 - 4   \n",
       "4                  184                3                    2 - 4   \n",
       "\n",
       "  Product_importance Gender  Discount_offered(%) Discount_interval   \n",
       "0                low      F                   44              > 10  \\\n",
       "1                low      M                   59              > 10   \n",
       "2                low      M                   48              > 10   \n",
       "3             medium      M                   10              > 10   \n",
       "4             medium      F                   46              > 10   \n",
       "\n",
       "   Weight_in_gms Reached_on_Time_(Y/N)  \n",
       "0           1233                     N  \n",
       "1           3088                     N  \n",
       "2           3374                     N  \n",
       "3           1177                     N  \n",
       "4           2484                     N  "
      ]
     },
     "execution_count": 36,
     "metadata": {},
     "output_type": "execute_result"
    }
   ],
   "source": [
    "# Discount Interval\n",
    "\n",
    "def Discount_interval (df):\n",
    "    if 10 > df['Discount_offered(%)'] > 4:\n",
    "        return \"4 - 10\"\n",
    "    elif df['Discount_offered(%)'] <= 4:\n",
    "        return \"0 - 4\"\n",
    "    else:\n",
    "        return \"> 10\"\n",
    "    \n",
    "df['Discount_interval'] = df.apply(Discount_interval, axis=1)\n",
    "\n",
    "# Relocate Discount_interval column next to Discount_offered\n",
    "df.insert(df.columns.get_loc('Discount_offered(%)') + 1, 'Discount_interval', df.pop('Discount_interval'))\n",
    "df.head()"
   ]
  },
  {
   "attachments": {},
   "cell_type": "markdown",
   "metadata": {},
   "source": [
    "Insight\n",
    "\n",
    "Outliers pada kedua kolom telah ditangani dengan menambahkan interval berdasarkan nilai medaian dan MAD dan hasil proses interval ditambahkan kedalam dataset di samping variabel "
   ]
  },
  {
   "attachments": {},
   "cell_type": "markdown",
   "metadata": {},
   "source": [
    "## `Categorizing Variable`\n",
    "\n",
    "Variabel Weight_in_grams termasuk ke dalam variabel kontinue sehingga bisa dilakukan binnning. Nilai variabel tersebut akan dikelompokan ke dalam kategori tertentu karena memiliki nilai unik yang bervariasi, untuk memudahkan dalam proses analisa data selanjutnya."
   ]
  },
  {
   "cell_type": "code",
   "execution_count": 38,
   "metadata": {},
   "outputs": [
    {
     "data": {
      "text/plain": [
       "0         Small\n",
       "1        Medium\n",
       "2        Medium\n",
       "3         Small\n",
       "4         Small\n",
       "          ...  \n",
       "10994     Small\n",
       "10995     Small\n",
       "10996     Small\n",
       "10997     Small\n",
       "10998     Small\n",
       "Name: Weight_Category, Length: 10999, dtype: object"
      ]
     },
     "execution_count": 38,
     "metadata": {},
     "output_type": "execute_result"
    }
   ],
   "source": [
    "# Equal Frequency\n",
    "\n",
    "weight = KBinsDiscretizer(\n",
    "    n_bins=3,\n",
    "    encode='ordinal',\n",
    "    strategy='kmeans',\n",
    ")\n",
    "\n",
    "weight.set_output(transform=\"pandas\")\n",
    "\n",
    "df['Weight_Category'] = weight.fit_transform(df[['Weight_in_gms']])\n",
    "df['Weight_Category'] = df['Weight_Category'].replace([0.0, 1.0, 2.0], ['Small', 'Medium', 'Large'])\n",
    "df['Weight_Category']"
   ]
  },
  {
   "cell_type": "code",
   "execution_count": 39,
   "metadata": {},
   "outputs": [
    {
     "data": {
      "text/html": [
       "<div>\n",
       "<style scoped>\n",
       "    .dataframe tbody tr th:only-of-type {\n",
       "        vertical-align: middle;\n",
       "    }\n",
       "\n",
       "    .dataframe tbody tr th {\n",
       "        vertical-align: top;\n",
       "    }\n",
       "\n",
       "    .dataframe thead th {\n",
       "        text-align: right;\n",
       "    }\n",
       "</style>\n",
       "<table border=\"1\" class=\"dataframe\">\n",
       "  <thead>\n",
       "    <tr style=\"text-align: right;\">\n",
       "      <th></th>\n",
       "      <th>Warehouse_block</th>\n",
       "      <th>Mode_of_Shipment</th>\n",
       "      <th>Customer_care_calls</th>\n",
       "      <th>Customer_rating</th>\n",
       "      <th>Cost_of_the_Product</th>\n",
       "      <th>Prior_purchases</th>\n",
       "      <th>Prior_purchases_interval</th>\n",
       "      <th>Product_importance</th>\n",
       "      <th>Gender</th>\n",
       "      <th>Discount_offered(%)</th>\n",
       "      <th>Discount_interval</th>\n",
       "      <th>Weight_in_gms</th>\n",
       "      <th>Weight_Category</th>\n",
       "      <th>Reached_on_Time_(Y/N)</th>\n",
       "    </tr>\n",
       "  </thead>\n",
       "  <tbody>\n",
       "    <tr>\n",
       "      <th>0</th>\n",
       "      <td>D</td>\n",
       "      <td>Flight</td>\n",
       "      <td>4</td>\n",
       "      <td>2</td>\n",
       "      <td>177</td>\n",
       "      <td>3</td>\n",
       "      <td>2 - 4</td>\n",
       "      <td>low</td>\n",
       "      <td>F</td>\n",
       "      <td>44</td>\n",
       "      <td>&gt; 10</td>\n",
       "      <td>1233</td>\n",
       "      <td>Small</td>\n",
       "      <td>N</td>\n",
       "    </tr>\n",
       "    <tr>\n",
       "      <th>1</th>\n",
       "      <td>F</td>\n",
       "      <td>Flight</td>\n",
       "      <td>4</td>\n",
       "      <td>5</td>\n",
       "      <td>216</td>\n",
       "      <td>2</td>\n",
       "      <td>0 - 2</td>\n",
       "      <td>low</td>\n",
       "      <td>M</td>\n",
       "      <td>59</td>\n",
       "      <td>&gt; 10</td>\n",
       "      <td>3088</td>\n",
       "      <td>Medium</td>\n",
       "      <td>N</td>\n",
       "    </tr>\n",
       "    <tr>\n",
       "      <th>2</th>\n",
       "      <td>A</td>\n",
       "      <td>Flight</td>\n",
       "      <td>2</td>\n",
       "      <td>2</td>\n",
       "      <td>183</td>\n",
       "      <td>4</td>\n",
       "      <td>2 - 4</td>\n",
       "      <td>low</td>\n",
       "      <td>M</td>\n",
       "      <td>48</td>\n",
       "      <td>&gt; 10</td>\n",
       "      <td>3374</td>\n",
       "      <td>Medium</td>\n",
       "      <td>N</td>\n",
       "    </tr>\n",
       "    <tr>\n",
       "      <th>3</th>\n",
       "      <td>B</td>\n",
       "      <td>Flight</td>\n",
       "      <td>3</td>\n",
       "      <td>3</td>\n",
       "      <td>176</td>\n",
       "      <td>4</td>\n",
       "      <td>2 - 4</td>\n",
       "      <td>medium</td>\n",
       "      <td>M</td>\n",
       "      <td>10</td>\n",
       "      <td>&gt; 10</td>\n",
       "      <td>1177</td>\n",
       "      <td>Small</td>\n",
       "      <td>N</td>\n",
       "    </tr>\n",
       "    <tr>\n",
       "      <th>4</th>\n",
       "      <td>C</td>\n",
       "      <td>Flight</td>\n",
       "      <td>2</td>\n",
       "      <td>2</td>\n",
       "      <td>184</td>\n",
       "      <td>3</td>\n",
       "      <td>2 - 4</td>\n",
       "      <td>medium</td>\n",
       "      <td>F</td>\n",
       "      <td>46</td>\n",
       "      <td>&gt; 10</td>\n",
       "      <td>2484</td>\n",
       "      <td>Small</td>\n",
       "      <td>N</td>\n",
       "    </tr>\n",
       "  </tbody>\n",
       "</table>\n",
       "</div>"
      ],
      "text/plain": [
       "  Warehouse_block Mode_of_Shipment  Customer_care_calls  Customer_rating   \n",
       "0               D           Flight                    4                2  \\\n",
       "1               F           Flight                    4                5   \n",
       "2               A           Flight                    2                2   \n",
       "3               B           Flight                    3                3   \n",
       "4               C           Flight                    2                2   \n",
       "\n",
       "   Cost_of_the_Product  Prior_purchases Prior_purchases_interval   \n",
       "0                  177                3                    2 - 4  \\\n",
       "1                  216                2                    0 - 2   \n",
       "2                  183                4                    2 - 4   \n",
       "3                  176                4                    2 - 4   \n",
       "4                  184                3                    2 - 4   \n",
       "\n",
       "  Product_importance Gender  Discount_offered(%) Discount_interval   \n",
       "0                low      F                   44              > 10  \\\n",
       "1                low      M                   59              > 10   \n",
       "2                low      M                   48              > 10   \n",
       "3             medium      M                   10              > 10   \n",
       "4             medium      F                   46              > 10   \n",
       "\n",
       "   Weight_in_gms Weight_Category Reached_on_Time_(Y/N)  \n",
       "0           1233           Small                     N  \n",
       "1           3088          Medium                     N  \n",
       "2           3374          Medium                     N  \n",
       "3           1177           Small                     N  \n",
       "4           2484           Small                     N  "
      ]
     },
     "metadata": {},
     "output_type": "display_data"
    },
    {
     "data": {
      "text/html": [
       "<div>\n",
       "<style scoped>\n",
       "    .dataframe tbody tr th:only-of-type {\n",
       "        vertical-align: middle;\n",
       "    }\n",
       "\n",
       "    .dataframe tbody tr th {\n",
       "        vertical-align: top;\n",
       "    }\n",
       "\n",
       "    .dataframe thead th {\n",
       "        text-align: right;\n",
       "    }\n",
       "</style>\n",
       "<table border=\"1\" class=\"dataframe\">\n",
       "  <thead>\n",
       "    <tr style=\"text-align: right;\">\n",
       "      <th></th>\n",
       "      <th>Warehouse_block</th>\n",
       "      <th>Mode_of_Shipment</th>\n",
       "      <th>Customer_care_calls</th>\n",
       "      <th>Customer_rating</th>\n",
       "      <th>Cost_of_the_Product</th>\n",
       "      <th>Prior_purchases</th>\n",
       "      <th>Prior_purchases_interval</th>\n",
       "      <th>Product_importance</th>\n",
       "      <th>Gender</th>\n",
       "      <th>Discount_offered(%)</th>\n",
       "      <th>Discount_interval</th>\n",
       "      <th>Weight_in_gms</th>\n",
       "      <th>Weight_Category</th>\n",
       "      <th>Reached_on_Time_(Y/N)</th>\n",
       "    </tr>\n",
       "  </thead>\n",
       "  <tbody>\n",
       "    <tr>\n",
       "      <th>10994</th>\n",
       "      <td>A</td>\n",
       "      <td>Ship</td>\n",
       "      <td>4</td>\n",
       "      <td>1</td>\n",
       "      <td>252</td>\n",
       "      <td>5</td>\n",
       "      <td>2 - 4</td>\n",
       "      <td>medium</td>\n",
       "      <td>F</td>\n",
       "      <td>1</td>\n",
       "      <td>0 - 4</td>\n",
       "      <td>1538</td>\n",
       "      <td>Small</td>\n",
       "      <td>N</td>\n",
       "    </tr>\n",
       "    <tr>\n",
       "      <th>10995</th>\n",
       "      <td>B</td>\n",
       "      <td>Ship</td>\n",
       "      <td>4</td>\n",
       "      <td>1</td>\n",
       "      <td>232</td>\n",
       "      <td>5</td>\n",
       "      <td>2 - 4</td>\n",
       "      <td>medium</td>\n",
       "      <td>F</td>\n",
       "      <td>6</td>\n",
       "      <td>4 - 10</td>\n",
       "      <td>1247</td>\n",
       "      <td>Small</td>\n",
       "      <td>Y</td>\n",
       "    </tr>\n",
       "    <tr>\n",
       "      <th>10996</th>\n",
       "      <td>C</td>\n",
       "      <td>Ship</td>\n",
       "      <td>5</td>\n",
       "      <td>4</td>\n",
       "      <td>242</td>\n",
       "      <td>5</td>\n",
       "      <td>2 - 4</td>\n",
       "      <td>low</td>\n",
       "      <td>F</td>\n",
       "      <td>4</td>\n",
       "      <td>0 - 4</td>\n",
       "      <td>1155</td>\n",
       "      <td>Small</td>\n",
       "      <td>Y</td>\n",
       "    </tr>\n",
       "    <tr>\n",
       "      <th>10997</th>\n",
       "      <td>F</td>\n",
       "      <td>Ship</td>\n",
       "      <td>5</td>\n",
       "      <td>2</td>\n",
       "      <td>223</td>\n",
       "      <td>6</td>\n",
       "      <td>2 - 4</td>\n",
       "      <td>medium</td>\n",
       "      <td>M</td>\n",
       "      <td>2</td>\n",
       "      <td>0 - 4</td>\n",
       "      <td>1210</td>\n",
       "      <td>Small</td>\n",
       "      <td>Y</td>\n",
       "    </tr>\n",
       "    <tr>\n",
       "      <th>10998</th>\n",
       "      <td>D</td>\n",
       "      <td>Ship</td>\n",
       "      <td>2</td>\n",
       "      <td>5</td>\n",
       "      <td>155</td>\n",
       "      <td>5</td>\n",
       "      <td>2 - 4</td>\n",
       "      <td>low</td>\n",
       "      <td>F</td>\n",
       "      <td>6</td>\n",
       "      <td>4 - 10</td>\n",
       "      <td>1639</td>\n",
       "      <td>Small</td>\n",
       "      <td>Y</td>\n",
       "    </tr>\n",
       "  </tbody>\n",
       "</table>\n",
       "</div>"
      ],
      "text/plain": [
       "      Warehouse_block Mode_of_Shipment  Customer_care_calls  Customer_rating   \n",
       "10994               A             Ship                    4                1  \\\n",
       "10995               B             Ship                    4                1   \n",
       "10996               C             Ship                    5                4   \n",
       "10997               F             Ship                    5                2   \n",
       "10998               D             Ship                    2                5   \n",
       "\n",
       "       Cost_of_the_Product  Prior_purchases Prior_purchases_interval   \n",
       "10994                  252                5                    2 - 4  \\\n",
       "10995                  232                5                    2 - 4   \n",
       "10996                  242                5                    2 - 4   \n",
       "10997                  223                6                    2 - 4   \n",
       "10998                  155                5                    2 - 4   \n",
       "\n",
       "      Product_importance Gender  Discount_offered(%) Discount_interval   \n",
       "10994             medium      F                    1             0 - 4  \\\n",
       "10995             medium      F                    6            4 - 10   \n",
       "10996                low      F                    4             0 - 4   \n",
       "10997             medium      M                    2             0 - 4   \n",
       "10998                low      F                    6            4 - 10   \n",
       "\n",
       "       Weight_in_gms Weight_Category Reached_on_Time_(Y/N)  \n",
       "10994           1538           Small                     N  \n",
       "10995           1247           Small                     Y  \n",
       "10996           1155           Small                     Y  \n",
       "10997           1210           Small                     Y  \n",
       "10998           1639           Small                     Y  "
      ]
     },
     "metadata": {},
     "output_type": "display_data"
    }
   ],
   "source": [
    "# Relocate 'Weight_Category' beside 'Weight_in_gms'\n",
    "\n",
    "df.insert(df.columns.get_loc('Weight_in_gms') + 1, 'Weight_Category', df.pop('Weight_Category'))\n",
    "display(df.head(), df.tail())"
   ]
  },
  {
   "attachments": {},
   "cell_type": "markdown",
   "metadata": {},
   "source": [
    "## `Creating New Attributes`"
   ]
  },
  {
   "attachments": {},
   "cell_type": "markdown",
   "metadata": {},
   "source": [
    "Atribut lain yang akan dibutuhkan dalam analisis\n",
    "\n",
    "Pendapatan yang diperoleh (`Revenue`)\n",
    "\n",
    "    Revenue = Cost - Discount = Cost_of_the_Product - (Cost_of_the_Product * Discount_offered)"
   ]
  },
  {
   "cell_type": "code",
   "execution_count": 41,
   "metadata": {},
   "outputs": [
    {
     "data": {
      "text/html": [
       "<div>\n",
       "<style scoped>\n",
       "    .dataframe tbody tr th:only-of-type {\n",
       "        vertical-align: middle;\n",
       "    }\n",
       "\n",
       "    .dataframe tbody tr th {\n",
       "        vertical-align: top;\n",
       "    }\n",
       "\n",
       "    .dataframe thead th {\n",
       "        text-align: right;\n",
       "    }\n",
       "</style>\n",
       "<table border=\"1\" class=\"dataframe\">\n",
       "  <thead>\n",
       "    <tr style=\"text-align: right;\">\n",
       "      <th></th>\n",
       "      <th>Warehouse_block</th>\n",
       "      <th>Mode_of_Shipment</th>\n",
       "      <th>Customer_care_calls</th>\n",
       "      <th>Customer_rating</th>\n",
       "      <th>Cost_of_the_Product</th>\n",
       "      <th>Prior_purchases</th>\n",
       "      <th>Prior_purchases_interval</th>\n",
       "      <th>Product_importance</th>\n",
       "      <th>Gender</th>\n",
       "      <th>Discount_offered(%)</th>\n",
       "      <th>Discount_interval</th>\n",
       "      <th>Weight_in_gms</th>\n",
       "      <th>Weight_Category</th>\n",
       "      <th>Reached_on_Time_(Y/N)</th>\n",
       "      <th>Revenue</th>\n",
       "    </tr>\n",
       "  </thead>\n",
       "  <tbody>\n",
       "    <tr>\n",
       "      <th>0</th>\n",
       "      <td>D</td>\n",
       "      <td>Flight</td>\n",
       "      <td>4</td>\n",
       "      <td>2</td>\n",
       "      <td>177</td>\n",
       "      <td>3</td>\n",
       "      <td>2 - 4</td>\n",
       "      <td>low</td>\n",
       "      <td>F</td>\n",
       "      <td>44</td>\n",
       "      <td>&gt; 10</td>\n",
       "      <td>1233</td>\n",
       "      <td>Small</td>\n",
       "      <td>N</td>\n",
       "      <td>99.12</td>\n",
       "    </tr>\n",
       "    <tr>\n",
       "      <th>1</th>\n",
       "      <td>F</td>\n",
       "      <td>Flight</td>\n",
       "      <td>4</td>\n",
       "      <td>5</td>\n",
       "      <td>216</td>\n",
       "      <td>2</td>\n",
       "      <td>0 - 2</td>\n",
       "      <td>low</td>\n",
       "      <td>M</td>\n",
       "      <td>59</td>\n",
       "      <td>&gt; 10</td>\n",
       "      <td>3088</td>\n",
       "      <td>Medium</td>\n",
       "      <td>N</td>\n",
       "      <td>88.56</td>\n",
       "    </tr>\n",
       "    <tr>\n",
       "      <th>2</th>\n",
       "      <td>A</td>\n",
       "      <td>Flight</td>\n",
       "      <td>2</td>\n",
       "      <td>2</td>\n",
       "      <td>183</td>\n",
       "      <td>4</td>\n",
       "      <td>2 - 4</td>\n",
       "      <td>low</td>\n",
       "      <td>M</td>\n",
       "      <td>48</td>\n",
       "      <td>&gt; 10</td>\n",
       "      <td>3374</td>\n",
       "      <td>Medium</td>\n",
       "      <td>N</td>\n",
       "      <td>95.16</td>\n",
       "    </tr>\n",
       "    <tr>\n",
       "      <th>3</th>\n",
       "      <td>B</td>\n",
       "      <td>Flight</td>\n",
       "      <td>3</td>\n",
       "      <td>3</td>\n",
       "      <td>176</td>\n",
       "      <td>4</td>\n",
       "      <td>2 - 4</td>\n",
       "      <td>medium</td>\n",
       "      <td>M</td>\n",
       "      <td>10</td>\n",
       "      <td>&gt; 10</td>\n",
       "      <td>1177</td>\n",
       "      <td>Small</td>\n",
       "      <td>N</td>\n",
       "      <td>158.40</td>\n",
       "    </tr>\n",
       "    <tr>\n",
       "      <th>4</th>\n",
       "      <td>C</td>\n",
       "      <td>Flight</td>\n",
       "      <td>2</td>\n",
       "      <td>2</td>\n",
       "      <td>184</td>\n",
       "      <td>3</td>\n",
       "      <td>2 - 4</td>\n",
       "      <td>medium</td>\n",
       "      <td>F</td>\n",
       "      <td>46</td>\n",
       "      <td>&gt; 10</td>\n",
       "      <td>2484</td>\n",
       "      <td>Small</td>\n",
       "      <td>N</td>\n",
       "      <td>99.36</td>\n",
       "    </tr>\n",
       "  </tbody>\n",
       "</table>\n",
       "</div>"
      ],
      "text/plain": [
       "  Warehouse_block Mode_of_Shipment  Customer_care_calls  Customer_rating   \n",
       "0               D           Flight                    4                2  \\\n",
       "1               F           Flight                    4                5   \n",
       "2               A           Flight                    2                2   \n",
       "3               B           Flight                    3                3   \n",
       "4               C           Flight                    2                2   \n",
       "\n",
       "   Cost_of_the_Product  Prior_purchases Prior_purchases_interval   \n",
       "0                  177                3                    2 - 4  \\\n",
       "1                  216                2                    0 - 2   \n",
       "2                  183                4                    2 - 4   \n",
       "3                  176                4                    2 - 4   \n",
       "4                  184                3                    2 - 4   \n",
       "\n",
       "  Product_importance Gender  Discount_offered(%) Discount_interval   \n",
       "0                low      F                   44              > 10  \\\n",
       "1                low      M                   59              > 10   \n",
       "2                low      M                   48              > 10   \n",
       "3             medium      M                   10              > 10   \n",
       "4             medium      F                   46              > 10   \n",
       "\n",
       "   Weight_in_gms Weight_Category Reached_on_Time_(Y/N)  Revenue  \n",
       "0           1233           Small                     N    99.12  \n",
       "1           3088          Medium                     N    88.56  \n",
       "2           3374          Medium                     N    95.16  \n",
       "3           1177           Small                     N   158.40  \n",
       "4           2484           Small                     N    99.36  "
      ]
     },
     "execution_count": 41,
     "metadata": {},
     "output_type": "execute_result"
    }
   ],
   "source": [
    "# Creating Revenue Metric\n",
    "\n",
    "df['Revenue'] = df['Cost_of_the_Product'] - (df['Cost_of_the_Product'] * df['Discount_offered(%)'] / 100)\n",
    "\n",
    "df.insert(df.columns.get_loc('Reached_on_Time_(Y/N)') + 1, 'Revenue', df.pop('Revenue'))\n",
    "df.head()"
   ]
  },
  {
   "cell_type": "markdown",
   "metadata": {},
   "source": [
    "## `Saving Data`"
   ]
  },
  {
   "cell_type": "code",
   "execution_count": 4,
   "metadata": {},
   "outputs": [],
   "source": [
    "df.to_csv(f'../data/processed/cleaned_data.csv')"
   ]
  }
 ],
 "metadata": {
  "kernelspec": {
   "display_name": "Python 3",
   "language": "python",
   "name": "python3"
  },
  "language_info": {
   "codemirror_mode": {
    "name": "ipython",
    "version": 3
   },
   "file_extension": ".py",
   "mimetype": "text/x-python",
   "name": "python",
   "nbconvert_exporter": "python",
   "pygments_lexer": "ipython3",
   "version": "3.9.13"
  },
  "orig_nbformat": 4
 },
 "nbformat": 4,
 "nbformat_minor": 2
}
